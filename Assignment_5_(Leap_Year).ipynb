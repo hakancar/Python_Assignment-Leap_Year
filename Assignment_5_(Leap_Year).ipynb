{
  "nbformat": 4,
  "nbformat_minor": 0,
  "metadata": {
    "colab": {
      "name": "Assignment-5 (Leap Year)",
      "provenance": [],
      "authorship_tag": "ABX9TyNGMeouz+8Swg650+B1J0q3",
      "include_colab_link": true
    },
    "kernelspec": {
      "name": "python3",
      "display_name": "Python 3"
    },
    "language_info": {
      "name": "python"
    }
  },
  "cells": [
    {
      "cell_type": "markdown",
      "metadata": {
        "id": "view-in-github",
        "colab_type": "text"
      },
      "source": [
        "<a href=\"https://colab.research.google.com/github/hakancar/Python_Assignment-Leap_Year/blob/main/Assignment_5_(Leap_Year).ipynb\" target=\"_parent\"><img src=\"https://colab.research.google.com/assets/colab-badge.svg\" alt=\"Open In Colab\"/></a>"
      ]
    },
    {
      "cell_type": "code",
      "metadata": {
        "colab": {
          "base_uri": "https://localhost:8080/"
        },
        "id": "plY6NLxHaaU1",
        "outputId": "643f49e6-4512-4db3-edf7-64807dc67e85"
      },
      "source": [
        "year = int (input (\"please enter a year as 4 digits: \"))\n",
        "leap_year = year % 4 or year % 400\n",
        "if leap_year == 0: \n",
        "  print (True)\n",
        "else: print (False)  "
      ],
      "execution_count": null,
      "outputs": [
        {
          "output_type": "stream",
          "text": [
            "please enter a year as 4 digits: 1900\n",
            "False\n"
          ],
          "name": "stdout"
        }
      ]
    }
  ]
}